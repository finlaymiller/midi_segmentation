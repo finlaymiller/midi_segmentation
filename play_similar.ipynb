{
 "cells": [
  {
   "cell_type": "markdown",
   "metadata": {},
   "source": [
    "given a library of midi loops, meander through it, always playing the most similar unplayed loop\n"
   ]
  },
  {
   "cell_type": "markdown",
   "metadata": {},
   "source": [
    "## functions\n"
   ]
  },
  {
   "cell_type": "code",
   "execution_count": 9,
   "metadata": {},
   "outputs": [],
   "source": [
    "# Print iterations progress\n",
    "def printProgressBar (iteration, total, prefix = '', suffix = '', fill = '█', printEnd = \"\\r\"):\n",
    "    \"\"\"\n",
    "    Call in a loop to create terminal progress bar\n",
    "    @params:\n",
    "        iteration   - Required  : current iteration (Int)\n",
    "        total       - Required  : total iterations (Int)\n",
    "        prefix      - Optional  : prefix string (Str)\n",
    "        suffix      - Optional  : suffix string (Str)\n",
    "        decimals    - Optional  : positive number of decimals in percent complete (Int)\n",
    "        length      - Optional  : character length of bar (Int)\n",
    "        fill        - Optional  : bar fill character (Str)\n",
    "        printEnd    - Optional  : end character (e.g. \"\\r\", \"\\r\\n\") (Str)\n",
    "    \"\"\"\n",
    "    bar_length = 100\n",
    "    # decimals = 1\n",
    "    # percent = (\"{0:.\" + str(decimals) + \"f}\").format(100 * (iteration / float(total)))\n",
    "    percent = f\"{iteration:.2f}/{total:.2f}\"\n",
    "    filledLength = int(bar_length * iteration // total)\n",
    "    bar = fill * filledLength + '-' * (bar_length - filledLength)\n",
    "    print(f'\\r{prefix} |{bar}| {percent} {suffix}', end = printEnd)\n",
    "\n",
    "    if iteration == total: \n",
    "        print()"
   ]
  },
  {
   "cell_type": "code",
   "execution_count": 10,
   "metadata": {},
   "outputs": [],
   "source": [
    "import pretty_midi\n",
    "\n",
    "def normalize_midi(mid: pretty_midi.PrettyMIDI):\n",
    "  \"\"\"Normalize MIDI file so that the first note is at 0.0s.\"\"\"\n",
    "  for instrument in mid.instruments:\n",
    "    if not instrument.notes:\n",
    "      continue\n",
    "    first_note_start = instrument.notes[0].start\n",
    "    for note in instrument.notes:\n",
    "      note.start -= first_note_start\n",
    "      note.end -= first_note_start\n",
    "  return mid"
   ]
  },
  {
   "cell_type": "code",
   "execution_count": 11,
   "metadata": {},
   "outputs": [],
   "source": [
    "from scipy.spatial.distance import cosine\n",
    "\n",
    "def find_most_similar_vector(target_vector, vector_array):\n",
    "  most_similar_vector = None\n",
    "  highest_similarity = -1  # since cosine similarity ranges from -1 to 1\n",
    "\n",
    "  for vector_data in vector_array:\n",
    "    name, vector = vector_data.values()\n",
    "    similarity = 1 - cosine(target_vector, vector)  # type: ignore\n",
    "    if similarity > highest_similarity:\n",
    "      highest_similarity = similarity\n",
    "      most_similar_vector = name\n",
    "\n",
    "  return most_similar_vector"
   ]
  },
  {
   "cell_type": "code",
   "execution_count": 12,
   "metadata": {},
   "outputs": [],
   "source": [
    "import mido\n",
    "\n",
    "def play_midi_file(midi_data: mido.MidiFile, midi_port):\n",
    "  t = 0\n",
    "  for msg in midi_data.play():\n",
    "    printProgressBar(t, midi_data.length, suffix='s')\n",
    "    t += msg.time # type: ignore\n",
    "    midi_port.send(msg)\n",
    "  printProgressBar(midi_data.length, midi_data.length, suffix='s')"
   ]
  },
  {
   "cell_type": "markdown",
   "metadata": {},
   "source": [
    "## calculate metrics\n"
   ]
  },
  {
   "cell_type": "code",
   "execution_count": 13,
   "metadata": {},
   "outputs": [],
   "source": [
    "import os\n",
    "import midi_utils as mu\n",
    "\n",
    "midi_metrics = {}\n",
    "src_file = \"MIDI1-TRIMMED\"\n",
    "folder_path = os.path.join(\"data\", \"outputs\", \"time\", src_file)\n",
    "config = {\"w1\": 0.5, \"w2\": 0.5, \"bin_length\": 1.0}\n",
    "\n",
    "for file in os.listdir(folder_path):\n",
    "  if file.endswith('.mid') or file.endswith('.midi'):\n",
    "    file_path = os.path.join(folder_path, file)\n",
    "    midi = pretty_midi.PrettyMIDI(file_path)\n",
    "\n",
    "    normalized_midi = normalize_midi(midi)\n",
    "    metrics = mu.all_metrics(midi, config)\n",
    "\n",
    "    midi_metrics[file] = {\n",
    "      # \"notes\": normalized_midi,\n",
    "      \"metrics\": metrics,\n",
    "      \"played\": 0,\n",
    "    }"
   ]
  },
  {
   "cell_type": "code",
   "execution_count": 14,
   "metadata": {},
   "outputs": [],
   "source": [
    "import json\n",
    "\n",
    "dict_file = os.path.join(\"data\", \"outputs\", f\"{src_file}_metrics.json\")\n",
    "\n",
    "with open(dict_file, 'w') as f:\n",
    "  json.dump(midi_metrics, f)"
   ]
  },
  {
   "cell_type": "markdown",
   "metadata": {},
   "source": [
    "## play\n"
   ]
  },
  {
   "cell_type": "code",
   "execution_count": 15,
   "metadata": {},
   "outputs": [
    {
     "name": "stdout",
     "output_type": "stream",
     "text": [
      "[0.00/6000.00]\tPlaying MIDI1-TRIMMED_152-160.mid \t(next up is MIDI1-TRIMMED_160-168.mid)\n",
      " |████████████████████████████████████████████████████████████████████████████████████████████████████| 7.93/7.93 s\n",
      "[7.93/6000.00]\tPlaying MIDI1-TRIMMED_160-168.mid \t(next up is MIDI1-TRIMMED_160-168.mid)\n",
      " |████████████████████████████████████████████████████████████████████████████████████████████████████| 8.00/8.00 s\n",
      "[15.93/6000.00]\tPlaying MIDI1-TRIMMED_160-168.mid \t(next up is MIDI1-TRIMMED_160-168.mid)\n",
      " |████████████████████████████████████████████████████████████████████████████████████████████████████| 8.00/8.00 s\n",
      "[23.93/6000.00]\tPlaying MIDI1-TRIMMED_160-168.mid \t(next up is MIDI1-TRIMMED_168-176.mid)\n",
      " |████████████████████████████████████████████████████████████████████████████████████████████████████| 8.00/8.00 s\n",
      "[31.94/6000.00]\tPlaying MIDI1-TRIMMED_168-176.mid \t(next up is MIDI1-TRIMMED_168-176.mid)\n",
      " |███████████████████████████████████████████████████████████████████████████████████████████████████-| 8.00/8.00 s\n",
      "[39.94/6000.00]\tPlaying MIDI1-TRIMMED_168-176.mid \t(next up is MIDI1-TRIMMED_168-176.mid)\n",
      " |████████████████████████████████████████████████████████████----------------------------------------| 4.80/8.00 s\r"
     ]
    },
    {
     "ename": "KeyboardInterrupt",
     "evalue": "",
     "output_type": "error",
     "traceback": [
      "\u001b[0;31m---------------------------------------------------------------------------\u001b[0m",
      "\u001b[0;31mKeyboardInterrupt\u001b[0m                         Traceback (most recent call last)",
      "Cell \u001b[0;32mIn[15], line 46\u001b[0m\n\u001b[1;32m     44\u001b[0m time_elapsed \u001b[38;5;241m+\u001b[39m\u001b[38;5;241m=\u001b[39m midi\u001b[38;5;241m.\u001b[39mlength\n\u001b[1;32m     45\u001b[0m \u001b[38;5;66;03m# display.display(mu.draw_midi(os.path.join(folder_path, current_file_path))) # type: ignore\u001b[39;00m\n\u001b[0;32m---> 46\u001b[0m \u001b[43mplay_midi_file\u001b[49m\u001b[43m(\u001b[49m\u001b[43mmidi\u001b[49m\u001b[43m,\u001b[49m\u001b[43m \u001b[49m\u001b[43mport\u001b[49m\u001b[43m)\u001b[49m\n\u001b[1;32m     47\u001b[0m \u001b[38;5;66;03m# display.clear_output(wait=True)\u001b[39;00m\n\u001b[1;32m     48\u001b[0m \n\u001b[1;32m     49\u001b[0m \u001b[38;5;66;03m# move to next file\u001b[39;00m\n\u001b[1;32m     50\u001b[0m current_file_path \u001b[38;5;241m=\u001b[39m next_file_path\n",
      "Cell \u001b[0;32mIn[12], line 5\u001b[0m, in \u001b[0;36mplay_midi_file\u001b[0;34m(midi_data, midi_port)\u001b[0m\n\u001b[1;32m      3\u001b[0m \u001b[38;5;28;01mdef\u001b[39;00m \u001b[38;5;21mplay_midi_file\u001b[39m(midi_data: mido\u001b[38;5;241m.\u001b[39mMidiFile, midi_port):\n\u001b[1;32m      4\u001b[0m   t \u001b[38;5;241m=\u001b[39m \u001b[38;5;241m0\u001b[39m\n\u001b[0;32m----> 5\u001b[0m \u001b[43m  \u001b[49m\u001b[38;5;28;43;01mfor\u001b[39;49;00m\u001b[43m \u001b[49m\u001b[43mmsg\u001b[49m\u001b[43m \u001b[49m\u001b[38;5;129;43;01min\u001b[39;49;00m\u001b[43m \u001b[49m\u001b[43mmidi_data\u001b[49m\u001b[38;5;241;43m.\u001b[39;49m\u001b[43mplay\u001b[49m\u001b[43m(\u001b[49m\u001b[43m)\u001b[49m\u001b[43m:\u001b[49m\n\u001b[1;32m      6\u001b[0m \u001b[43m    \u001b[49m\u001b[43mprintProgressBar\u001b[49m\u001b[43m(\u001b[49m\u001b[43mt\u001b[49m\u001b[43m,\u001b[49m\u001b[43m \u001b[49m\u001b[43mmidi_data\u001b[49m\u001b[38;5;241;43m.\u001b[39;49m\u001b[43mlength\u001b[49m\u001b[43m,\u001b[49m\u001b[43m \u001b[49m\u001b[43msuffix\u001b[49m\u001b[38;5;241;43m=\u001b[39;49m\u001b[38;5;124;43m'\u001b[39;49m\u001b[38;5;124;43ms\u001b[39;49m\u001b[38;5;124;43m'\u001b[39;49m\u001b[43m)\u001b[49m\n\u001b[1;32m      7\u001b[0m \u001b[43m    \u001b[49m\u001b[43mt\u001b[49m\u001b[43m \u001b[49m\u001b[38;5;241;43m+\u001b[39;49m\u001b[38;5;241;43m=\u001b[39;49m\u001b[43m \u001b[49m\u001b[43mmsg\u001b[49m\u001b[38;5;241;43m.\u001b[39;49m\u001b[43mtime\u001b[49m\u001b[43m \u001b[49m\u001b[38;5;66;43;03m# type: ignore\u001b[39;49;00m\n",
      "File \u001b[0;32m~/opt/anaconda3/envs/ssm/lib/python3.11/site-packages/mido/midifiles/midifiles.py:433\u001b[0m, in \u001b[0;36mMidiFile.play\u001b[0;34m(self, meta_messages, now)\u001b[0m\n\u001b[1;32m    430\u001b[0m duration_to_next_event \u001b[38;5;241m=\u001b[39m input_time \u001b[38;5;241m-\u001b[39m playback_time\n\u001b[1;32m    432\u001b[0m \u001b[38;5;28;01mif\u001b[39;00m duration_to_next_event \u001b[38;5;241m>\u001b[39m \u001b[38;5;241m0.0\u001b[39m:\n\u001b[0;32m--> 433\u001b[0m     time\u001b[38;5;241m.\u001b[39msleep(duration_to_next_event)\n\u001b[1;32m    435\u001b[0m \u001b[38;5;28;01mif\u001b[39;00m \u001b[38;5;28misinstance\u001b[39m(msg, MetaMessage) \u001b[38;5;129;01mand\u001b[39;00m \u001b[38;5;129;01mnot\u001b[39;00m meta_messages:\n\u001b[1;32m    436\u001b[0m     \u001b[38;5;28;01mcontinue\u001b[39;00m\n",
      "\u001b[0;31mKeyboardInterrupt\u001b[0m: "
     ]
    }
   ],
   "source": [
    "import time\n",
    "import numpy as np\n",
    "from IPython import display\n",
    "\n",
    "# midi settings\n",
    "midi_device_name = \"Disklavier\"\n",
    "# midi_device_name = \"to Max 1\"\n",
    "port = mido.open_output(midi_device_name) # type: ignore\n",
    "\n",
    "# loop settings\n",
    "loop_chance = 0.0 # 0-1\n",
    "play_time = 6000 # seconds\n",
    "time_elapsed = 0 # seconds\n",
    "loop_time = 8 # seconds\n",
    "\n",
    "# file system settings\n",
    "seed = np.random.randint(0, len(midi_metrics.items()) - 1)\n",
    "current_file_path = list(midi_metrics.items())[seed][0] # choose random initial file\n",
    "next_file_path = None\n",
    "playback_record_path = os.path.join(\"data\", \"outputs\", \"logs\", f\"pb_{src_file}_{seed}_{round(time.time(), 0)}.txt\")\n",
    "\n",
    "while (time_elapsed < play_time):\n",
    "  # mark progress\n",
    "  midi_metrics[current_file_path]['played'] = True\n",
    "  with open(playback_record_path, 'a') as f:\n",
    "    f.write(current_file_path) # type: ignore\n",
    "    f.write('\\n')\n",
    "\n",
    "  # find next file\n",
    "  if (np.random.rand() > loop_chance):\n",
    "    cph = list(midi_metrics.items())[seed][1]['metrics']['pitch_histogram']\n",
    "    all_vecs = [\n",
    "      {'name': filename, 'metric': details['metrics']['pitch_histogram']}\n",
    "      for filename, details in midi_metrics.items()\n",
    "      if not details['played']\n",
    "    ]\n",
    "    next_file_path = find_most_similar_vector(cph, all_vecs)\n",
    "  else:\n",
    "    next_file_path = current_file_path\n",
    "  print(f\"[{time_elapsed:.2f}/{play_time:.2f}]\\tPlaying {current_file_path} \\t(next up is {next_file_path})\")\n",
    "\n",
    "  # play file\n",
    "  midi = mido.MidiFile(os.path.join(folder_path, current_file_path)) # type: ignore\n",
    "  time_elapsed += midi.length\n",
    "  # display.display(mu.draw_midi(os.path.join(folder_path, current_file_path))) # type: ignore\n",
    "  play_midi_file(midi, port)\n",
    "  # display.clear_output(wait=True)\n",
    "\n",
    "  # move to next file\n",
    "  current_file_path = next_file_path\n"
   ]
  }
 ],
 "metadata": {
  "kernelspec": {
   "display_name": "ssm",
   "language": "python",
   "name": "python3"
  },
  "language_info": {
   "codemirror_mode": {
    "name": "ipython",
    "version": 3
   },
   "file_extension": ".py",
   "mimetype": "text/x-python",
   "name": "python",
   "nbconvert_exporter": "python",
   "pygments_lexer": "ipython3",
   "version": "3.11.5"
  }
 },
 "nbformat": 4,
 "nbformat_minor": 2
}
