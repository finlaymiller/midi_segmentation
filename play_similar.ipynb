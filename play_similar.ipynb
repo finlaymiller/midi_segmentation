{
 "cells": [
  {
   "cell_type": "markdown",
   "metadata": {},
   "source": [
    "given a library of midi loops, meander through it, always playing the most similar unplayed loop\n"
   ]
  },
  {
   "cell_type": "markdown",
   "metadata": {},
   "source": [
    "## functions\n"
   ]
  },
  {
   "cell_type": "code",
   "execution_count": 1,
   "metadata": {},
   "outputs": [],
   "source": [
    "# Print iterations progress\n",
    "def printProgressBar (iteration, total, prefix = '', suffix = '', fill = '█', printEnd = \"\\r\"):\n",
    "    \"\"\"\n",
    "    Call in a loop to create terminal progress bar\n",
    "    @params:\n",
    "        iteration   - Required  : current iteration (Int)\n",
    "        total       - Required  : total iterations (Int)\n",
    "        prefix      - Optional  : prefix string (Str)\n",
    "        suffix      - Optional  : suffix string (Str)\n",
    "        decimals    - Optional  : positive number of decimals in percent complete (Int)\n",
    "        length      - Optional  : character length of bar (Int)\n",
    "        fill        - Optional  : bar fill character (Str)\n",
    "        printEnd    - Optional  : end character (e.g. \"\\r\", \"\\r\\n\") (Str)\n",
    "    \"\"\"\n",
    "    bar_length = 100\n",
    "    # decimals = 1\n",
    "    # percent = (\"{0:.\" + str(decimals) + \"f}\").format(100 * (iteration / float(total)))\n",
    "    percent = f\"{iteration:.2f}/{total:.2f}\"\n",
    "    filledLength = int(bar_length * iteration // total)\n",
    "    bar = fill * filledLength + '-' * (bar_length - filledLength)\n",
    "    print(f'\\r{prefix} |{bar}| {percent} {suffix}', end = printEnd)\n",
    "\n",
    "    if iteration == total: \n",
    "        print()"
   ]
  },
  {
   "cell_type": "code",
   "execution_count": 2,
   "metadata": {},
   "outputs": [],
   "source": [
    "import mido\n",
    "import pretty_midi\n",
    "\n",
    "def normalize_midi(mid: pretty_midi.PrettyMIDI):\n",
    "  \"\"\"Normalize MIDI file so that the first note is at 0.0s.\"\"\"\n",
    "  for instrument in mid.instruments:\n",
    "    if not instrument.notes:\n",
    "      continue\n",
    "    first_note_start = instrument.notes[0].start\n",
    "    for note in instrument.notes:\n",
    "      note.start -= first_note_start\n",
    "      note.end -= first_note_start\n",
    "  return mid"
   ]
  },
  {
   "cell_type": "code",
   "execution_count": 21,
   "metadata": {},
   "outputs": [],
   "source": [
    "from scipy.spatial.distance import cosine\n",
    "\n",
    "def find_most_similar_vector(target_vector, vector_array):\n",
    "  most_similar_vector = None\n",
    "  highest_similarity = -1  # since cosine similarity ranges from -1 to 1\n",
    "\n",
    "  for vector_data in vector_array:\n",
    "    name, vector = vector_data.values()\n",
    "    similarity = 1 - cosine(target_vector, vector)  # Cosine similarity\n",
    "    if similarity > highest_similarity:\n",
    "      highest_similarity = similarity\n",
    "      most_similar_vector = name\n",
    "\n",
    "  return most_similar_vector"
   ]
  },
  {
   "cell_type": "markdown",
   "metadata": {},
   "source": [
    "## calculate metrics\n"
   ]
  },
  {
   "cell_type": "code",
   "execution_count": 4,
   "metadata": {},
   "outputs": [],
   "source": [
    "import os\n",
    "import chunk_utils as cu\n",
    "\n",
    "midi_dict = {}\n",
    "folder_path = os.path.join(\"data\", \"outputs\", \"MIDI1\")\n",
    "config = {\"w1\": 0.5, \"w2\": 0.5, \"bin_length\": 1.0}\n",
    "\n",
    "for file in os.listdir(folder_path):\n",
    "  if file.endswith('.mid') or file.endswith('.midi'):\n",
    "    file_path = os.path.join(folder_path, file)\n",
    "    midi = pretty_midi.PrettyMIDI(file_path)\n",
    "\n",
    "    normalized_midi = normalize_midi(midi)\n",
    "    metrics = cu.all_metrics(midi, config)\n",
    "\n",
    "    midi_dict[file] = {\n",
    "      \"notes\": normalized_midi,\n",
    "      \"metrics\": metrics,\n",
    "      \"played\": False,\n",
    "    }"
   ]
  },
  {
   "cell_type": "markdown",
   "metadata": {},
   "source": [
    "## play\n"
   ]
  },
  {
   "cell_type": "code",
   "execution_count": 22,
   "metadata": {},
   "outputs": [
    {
     "name": "stdout",
     "output_type": "stream",
     "text": [
      "[0.00/60.00]\tPlaying MIDI1-12.mid (next up is MIDI1-12.mid)\n",
      " |████████████████████████████████████████████████████████████████████████████████████████████████████| 6.37/6.37 s\n",
      "[6.37/60.00]\tPlaying MIDI1-12.mid (next up is MIDI1-12.mid)\n",
      " |████████████████████████████████████████████████████████████████████████████████████████████████████| 6.37/6.37 s\n",
      "[12.73/60.00]\tPlaying MIDI1-12.mid (next up is MIDI1-10.mid)\n",
      " |████████████████████████████████████████████████████████████████████████████████████████████████████| 6.37/6.37 s\n",
      "[19.10/60.00]\tPlaying MIDI1-10.mid (next up is MIDI1-10.mid)\n",
      " |███████████████████████████████████████████████████████████████████████████████████████████████████-| 7.07/7.07 s\n",
      "[26.17/60.00]\tPlaying MIDI1-10.mid (next up is MIDI1-10.mid)\n",
      " |███████████████████████████████████████████████████████████████████████████████████████████████████-| 7.07/7.07 s\n",
      "[33.24/60.00]\tPlaying MIDI1-10.mid (next up is MIDI1-5.mid)\n",
      " |███████████████████████████████████████████████████████████████████████████████████████████████████-| 7.07/7.07 s\n",
      "[40.31/60.00]\tPlaying MIDI1-5.mid (next up is MIDI1-5.mid)\n",
      " |███████████████████████████████████████████████████████████████████████████████████████████████████-| 8.32/8.32 s\n",
      "[48.63/60.00]\tPlaying MIDI1-5.mid (next up is MIDI1-5.mid)\n",
      " |███████████████████████████████████████████████████████████████████████████████████████████████████-| 8.32/8.32 s\n",
      "[56.94/60.00]\tPlaying MIDI1-5.mid (next up is MIDI1-3.mid)\n",
      " |███████████████████████████████████████████████████████████████████████████████████████████████████-| 8.32/8.32 s\n"
     ]
    }
   ],
   "source": [
    "import numpy as np\n",
    "\n",
    "# choose random initial file\n",
    "loop_chance = 0.5 # pct\n",
    "play_time = 60 # seconds\n",
    "time_elapsed = 0 # seconds\n",
    "midi_device_name = \"to Max 1\"\n",
    "seed = np.random.randint(0, len(midi_dict.items()) - 1)\n",
    "current_file_path = list(midi_dict.items())[seed][0]\n",
    "next_file_path = None\n",
    "port = mido.open_output(midi_device_name) # type: ignore\n",
    "\n",
    "while (time_elapsed < play_time):\n",
    "  # find next file\n",
    "  if (np.random.rand() < loop_chance):\n",
    "    cph = list(midi_dict.items())[seed][1]['metrics']['pitch_histogram']\n",
    "    all_vecs = [\n",
    "      {'name': filename, 'metric': details['metrics']['pitch_histogram']}\n",
    "      for filename, details in midi_dict.items()\n",
    "      if not details['played']\n",
    "    ]\n",
    "    next_file_path = find_most_similar_vector(cph, all_vecs)\n",
    "  else:\n",
    "    next_file_path = current_file_path\n",
    "  print(f\"[{time_elapsed:2.2f}/{play_time:2.2f}]\\tPlaying {current_file_path} (next up is {next_file_path})\")\n",
    "\n",
    "  # play file\n",
    "  t = 0\n",
    "  current_file = mido.MidiFile(os.path.join(folder_path, current_file_path)) # type: ignore\n",
    "  for msg in current_file.play():\n",
    "    printProgressBar(t, current_file.length, suffix='s')\n",
    "    t += msg.time # type: ignore\n",
    "    port.send(msg)\n",
    "  printProgressBar(current_file.length, current_file.length, suffix='s')\n",
    "  time_elapsed += current_file.length\n",
    "\n",
    "  # ready next file\n",
    "  midi_dict[current_file_path]['played'] = True\n",
    "  current_file_path = next_file_path\n"
   ]
  }
 ],
 "metadata": {
  "kernelspec": {
   "display_name": "ssm",
   "language": "python",
   "name": "python3"
  },
  "language_info": {
   "codemirror_mode": {
    "name": "ipython",
    "version": 3
   },
   "file_extension": ".py",
   "mimetype": "text/x-python",
   "name": "python",
   "nbconvert_exporter": "python",
   "pygments_lexer": "ipython3",
   "version": "3.11.5"
  }
 },
 "nbformat": 4,
 "nbformat_minor": 2
}
