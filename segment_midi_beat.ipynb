{
 "cells": [
  {
   "cell_type": "markdown",
   "metadata": {},
   "source": [
    "## Time-based manual segmentation\n"
   ]
  },
  {
   "cell_type": "code",
   "execution_count": 14,
   "metadata": {},
   "outputs": [],
   "source": [
    "import os\n",
    "import pretty_midi\n",
    "import numpy as np\n",
    "from pathlib import Path\n",
    "import matplotlib.pyplot as plt\n",
    "import midi_utils as mu\n",
    "\n",
    "plt.style.use(\"dark_background\")"
   ]
  },
  {
   "cell_type": "code",
   "execution_count": 15,
   "metadata": {},
   "outputs": [],
   "source": [
    "def split_midi_into_beats(input_file, output_folder, segment_length=8):\n",
    "    \"\"\"\n",
    "    Splits a MIDI file into segments of segment_length beats each.\n",
    "\n",
    "    Args:\n",
    "    input_file (str): Path to the MIDI file.\n",
    "    output_folder (str): Path to write the segments out to.\n",
    "    segment_length (int): Number of beats in each segment.\n",
    "\n",
    "    Returns:\n",
    "    list[pretty_midi.PrettyMIDI]: A list of PrettyMIDI objects, each representing a segment of segment_length beats.\n",
    "    \"\"\"\n",
    "    original_midi = pretty_midi.PrettyMIDI(input_file)\n",
    "    beat_times = original_midi.get_beats()\n",
    "    filename = Path(input_file).stem\n",
    "    bpm = int(filename.split('-')[1])\n",
    "    parent_length = round(original_midi.get_end_time(), 1)\n",
    "    child_length = round(beat_times[segment_length - 1]/100 - beat_times[0]/100) * 100\n",
    "    total_child_length = -1\n",
    "\n",
    "    if not os.path.exists(output_folder):\n",
    "        os.makedirs(output_folder)\n",
    "\n",
    "    segments = []\n",
    "    for i in range(0, len(beat_times), segment_length):\n",
    "        segment_midi = pretty_midi.PrettyMIDI(initial_tempo=bpm)\n",
    "        start_time = beat_times[i]\n",
    "        end_time = beat_times[min(i + segment_length, len(beat_times))] if (i + segment_length) < len(beat_times) else original_midi.get_end_time()\n",
    "        output_filename = f'{filename}_{round(start_time)}-{round(end_time)}.mid'\n",
    "\n",
    "        for instrument in original_midi.instruments:\n",
    "            new_instrument = pretty_midi.Instrument(program=instrument.program, is_drum=instrument.is_drum, name=output_filename)\n",
    "            for note in instrument.notes:\n",
    "                if start_time <= note.start < end_time:\n",
    "                    new_note = pretty_midi.Note(\n",
    "                        velocity=note.velocity,\n",
    "                        pitch=note.pitch,\n",
    "                        start=note.start - start_time,\n",
    "                        end=min(note.end, end_time) - start_time\n",
    "                    )\n",
    "                    new_instrument.notes.append(new_note)\n",
    "            segment_midi.instruments.append(new_instrument)\n",
    "\n",
    "        total_child_length += child_length\n",
    "        segments.append(segment_midi)\n",
    "        segment_midi.write(os.path.join(output_folder, output_filename))\n",
    "\n",
    "    print(f\"split {filename} into {round(len(beat_times)/segment_length)} segments of {segment_length} beats each\")\n",
    "    print(f\"parent length {parent_length}s --> child length {child_length}s * {round(len(beat_times)/segment_length)} = {child_length * len(beat_times)/segment_length}, {total_child_length}\")\n",
    "\n",
    "    return segments\n"
   ]
  },
  {
   "cell_type": "code",
   "execution_count": 16,
   "metadata": {},
   "outputs": [
    {
     "name": "stdout",
     "output_type": "stream",
     "text": [
      "split 20240117-64-4-t_0-8 into 2 segments of 8 beats each\n",
      "parent length 8.0s --> child length 0s * 2 = 0.0, -1\n"
     ]
    },
    {
     "data": {
      "image/png": "[encoded data removed]",
      "text/plain": [
       "<Figure size 640x480 with 3 Axes>"
      ]
     },
     "metadata": {},
     "output_type": "display_data"
    }
   ],
   "source": [
    "# midi_folder = os.path.join(\"data\", \"time\", \"20231220-80-1-t\", \"20231220-80-1-t_0-8.mid\")\n",
    "midi_folder = os.path.join(\"data\", \"trouble\", \"20240117-64-4-t\", \"20240117-64-4-t_0-8.mid\")\n",
    "dir_out = os.path.join(\"data\", \"beats-trouble\")\n",
    "fs = 100\n",
    "\n",
    "midi = pretty_midi.PrettyMIDI(midi_folder)\n",
    "piano_roll = midi.get_piano_roll(fs)\n",
    "beats = midi.get_beats()\n",
    "segments = split_midi_into_beats(midi_folder, dir_out, 8)\n",
    "\n",
    "plt.subplot(2, 1, 1)\n",
    "plt.yticks([])\n",
    "plt.imshow(mu.trim_piano_roll(piano_roll), aspect='auto', origin='lower', cmap='magma', interpolation='nearest')\n",
    "for i, beat in enumerate(beats):\n",
    "    color = 'r' if i % 8 == 0 else 'g'\n",
    "    plt.axvline(x=beat * fs, color=color)\n",
    "\n",
    "plt.subplot(2, 2, 3)\n",
    "plt.yticks([])\n",
    "plt.imshow(mu.trim_piano_roll(segments[0].get_piano_roll()), aspect='auto', origin='lower', cmap='magma', interpolation='nearest')\n",
    "    \n",
    "plt.subplot(2, 2, 4)\n",
    "plt.yticks([])\n",
    "plt.imshow(mu.trim_piano_roll(segments[1].get_piano_roll()), aspect='auto', origin='lower', cmap='magma', interpolation='nearest')\n",
    "plt.show()"
   ]
  },
  {
   "cell_type": "code",
   "execution_count": 17,
   "metadata": {},
   "outputs": [
    {
     "name": "stdout",
     "output_type": "stream",
     "text": [
      "(8, 796)\n",
      "(8, 393)\n",
      "(8, 396)\n"
     ]
    }
   ],
   "source": [
    "print(mu.trim_piano_roll(piano_roll).shape)\n",
    "for s in segments:\n",
    "  print(mu.trim_piano_roll(s.get_piano_roll()).shape)"
   ]
  },
  {
   "cell_type": "code",
   "execution_count": 19,
   "metadata": {},
   "outputs": [
    {
     "data": {
      "image/png": "[encoded data removed]",
      "text/plain": [
       "<Figure size 640x480 with 2 Axes>"
      ]
     },
     "metadata": {},
     "output_type": "display_data"
    }
   ],
   "source": [
    "midi_folder = os.path.join(\"data\", \"time\", \"20231220-80-1-t\", \"20231220-80-1-t_0-8.mid\")\n",
    "dir_out = os.path.join(\"data\", \"beats\")\n",
    "bpm = 80\n",
    "subds = 12\n",
    "\n",
    "fpr= pretty_midi.PrettyMIDI(midi_folder)\n",
    "qpr = mu.quantize_midi(midi_folder, subds)\n",
    "\n",
    "qpr.write(os.path.join(\"data\", \"beats-quantized\", \"20231220-80-1-tq_0-8.mid\"))\n",
    "\n",
    "plt.subplot(2, 1, 1)\n",
    "plt.yticks([])\n",
    "plt.imshow(mu.trim_piano_roll(qpr.get_piano_roll()), aspect='auto', origin='lower', cmap='magma', interpolation='nearest')\n",
    "plt.subplot(2, 1, 2)\n",
    "plt.yticks([])\n",
    "plt.imshow(mu.trim_piano_roll(fpr.get_piano_roll(fs=round(1/(60/(bpm * subds))))), aspect='auto', origin='lower', cmap='magma', interpolation='nearest')\n",
    "plt.show()"
   ]
  },
  {
   "cell_type": "code",
   "execution_count": 23,
   "metadata": {},
   "outputs": [
    {
     "name": "stdout",
     "output_type": "stream",
     "text": [
      "split 20240121-66-2-t into 9 segments of 8 beats each\n",
      "parent length 35.8s --> child length 0s * 9 = 0.0, -1\n",
      "split 20231228-72-1-t into 70 segments of 8 beats each\n",
      "parent length 280.8s --> child length 0s * 70 = 0.0, -1\n",
      "split 20240121-70-9-t into 36 segments of 8 beats each\n",
      "parent length 144.0s --> child length 0s * 36 = 0.0, -1\n",
      "split 20240121-66-3-t into 35 segments of 8 beats each\n",
      "parent length 140.0s --> child length 0s * 35 = 0.0, -1\n",
      "split 20240121-66-1-t into 29 segments of 8 beats each\n",
      "parent length 115.8s --> child length 0s * 29 = 0.0, -1\n",
      "split 20240121-70-8-t into 40 segments of 8 beats each\n",
      "parent length 159.6s --> child length 0s * 40 = 0.0, -1\n",
      "split 20240121-70-6-t into 36 segments of 8 beats each\n",
      "parent length 146.0s --> child length 0s * 36 = 0.0, -1\n",
      "split 20240117-64-3-t into 36 segments of 8 beats each\n",
      "parent length 144.0s --> child length 0s * 36 = 0.0, -1\n",
      "split 20240121-70-4-t into 64 segments of 8 beats each\n",
      "parent length 254.0s --> child length 0s * 64 = 0.0, -1\n",
      "split 20240117-64-1-t into 32 segments of 8 beats each\n",
      "parent length 127.9s --> child length 0s * 32 = 0.0, -1\n",
      "split 20231220-80-5-t into 46 segments of 8 beats each\n",
      "parent length 184.0s --> child length 0s * 46 = 0.0, -1\n",
      "split 20231227-80-2-t into 36 segments of 8 beats each\n",
      "parent length 143.7s --> child length 0s * 36 = 0.0, -1\n",
      "split 20231227-80-6-t into 50 segments of 8 beats each\n",
      "parent length 202.0s --> child length 0s * 50 = 0.0, -1\n",
      "split 20240117-64-5-t into 22 segments of 8 beats each\n",
      "parent length 87.9s --> child length 0s * 22 = 0.0, -1\n",
      "split 20231220-80-1-t into 75 segments of 8 beats each\n",
      "parent length 300.0s --> child length 0s * 75 = 0.0, -1\n",
      "split 20231220-80-3-t into 83 segments of 8 beats each\n",
      "parent length 332.0s --> child length 0s * 83 = 0.0, -1\n",
      "split 20240121-70-2-t into 156 segments of 8 beats each\n",
      "parent length 624.0s --> child length 0s * 156 = 0.0, -1\n",
      "split 20231227-80-4-t into 16 segments of 8 beats each\n",
      "parent length 64.0s --> child length 0s * 16 = 0.0, -1\n",
      "split 20231220-80-4-t into 27 segments of 8 beats each\n",
      "parent length 108.0s --> child length 0s * 27 = 0.0, -1\n",
      "split 20240121-70-5-t into 6 segments of 8 beats each\n",
      "parent length 23.7s --> child length 0s * 6 = 0.0, -1\n",
      "split 20231227-80-3-t into 70 segments of 8 beats each\n",
      "parent length 279.9s --> child length 0s * 70 = 0.0, -1\n",
      "split 20231227-80-1-t into 10 segments of 8 beats each\n",
      "parent length 40.0s --> child length 0s * 10 = 0.0, -1\n",
      "split 20240117-64-2-t into 44 segments of 8 beats each\n",
      "parent length 178.0s --> child length 0s * 44 = 0.0, -1\n",
      "split 20240121-70-7-t into 12 segments of 8 beats each\n",
      "parent length 45.9s --> child length 0s * 12 = 0.0, -1\n",
      "split 20231220-80-6-t into 48 segments of 8 beats each\n",
      "parent length 189.7s --> child length 0s * 48 = 0.0, -1\n",
      "split 20240121-70-3-t into 19 segments of 8 beats each\n",
      "parent length 76.0s --> child length 0s * 19 = 0.0, -1\n",
      "split 20240117-64-6-t into 104 segments of 8 beats each\n",
      "parent length 418.0s --> child length 0s * 104 = 0.0, -1\n",
      "split 20231220-80-2-t into 73 segments of 8 beats each\n",
      "parent length 292.0s --> child length 0s * 73 = 0.0, -1\n",
      "split 20231227-80-5-t into 10 segments of 8 beats each\n",
      "parent length 38.0s --> child length 0s * 10 = 0.0, -1\n",
      "split 20240121-70-1-t into 62 segments of 8 beats each\n",
      "parent length 250.0s --> child length 0s * 62 = 0.0, -1\n",
      "split 20240117-64-4-t into 51 segments of 8 beats each\n",
      "parent length 203.9s --> child length 0s * 51 = 0.0, -1\n",
      "20240117-64-4-t_0-4.mid has bad length (128, 393) (wanted 400)\n",
      "20240117-64-4-t_4-8.mid has bad length (128, 396) (wanted 400)\n",
      "20240117-64-4-t_8-12.mid has bad length (128, 398) (wanted 400)\n",
      "20240117-64-4-t_12-16.mid has bad length (128, 398) (wanted 400)\n",
      "20240117-64-4-t_16-20.mid has bad length (128, 392) (wanted 400)\n",
      "20240117-64-4-t_20-24.mid has bad length (128, 396) (wanted 400)\n",
      "20240117-64-4-t_32-36.mid has bad length (128, 395) (wanted 400)\n",
      "20240117-64-4-t_44-48.mid has bad length (128, 393) (wanted 400)\n",
      "20240117-64-4-t_48-52.mid has bad length (128, 395) (wanted 400)\n",
      "20240117-64-4-t_52-56.mid has bad length (128, 399) (wanted 400)\n",
      "20240117-64-4-t_60-64.mid has bad length (128, 398) (wanted 400)\n",
      "20240117-64-4-t_68-72.mid has bad length (128, 398) (wanted 400)\n",
      "20240117-64-4-t_72-76.mid has bad length (128, 393) (wanted 400)\n",
      "20240117-64-4-t_112-116.mid has bad length (128, 391) (wanted 400)\n",
      "20240117-64-4-t_136-140.mid has bad length (128, 389) (wanted 400)\n",
      "20240117-64-4-t_148-152.mid has bad length (128, 389) (wanted 400)\n",
      "20240117-64-4-t_164-168.mid has bad length (128, 391) (wanted 400)\n",
      "20240117-64-4-t_172-176.mid has bad length (128, 391) (wanted 400)\n",
      "20240117-64-4-t_176-180.mid has bad length (128, 391) (wanted 400)\n",
      "20240117-64-4-t_180-184.mid has bad length (128, 396) (wanted 400)\n",
      "20240117-64-4-t_184-188.mid has bad length (128, 394) (wanted 400)\n",
      "20240117-64-4-t_188-192.mid has bad length (128, 390) (wanted 400)\n",
      "20240117-64-4-t_192-196.mid has bad length (128, 392) (wanted 400)\n",
      "20240117-64-4-t_196-200.mid has bad length (128, 389) (wanted 400)\n",
      "20240117-64-4-t_200-204.mid has bad length (128, 389) (wanted 400)\n"
     ]
    }
   ],
   "source": [
    "bs_path = os.path.join(\"data\", \"beats\")\n",
    "all_in_path = os.path.join(\"data\", \"trimmed outputs\")\n",
    "final_out_path = os.path.join(\"data\", \"beats-quantized\")\n",
    "segments = []\n",
    "\n",
    "for file in os.listdir(all_in_path):\n",
    "  segments = split_midi_into_beats(os.path.join(all_in_path, file), bs_path, 8)\n",
    "\n",
    "target_len = round(segments[0].get_piano_roll().shape[1]/100)*100\n",
    "for segment in segments:\n",
    "  seg_shape = segment.get_piano_roll().shape\n",
    "  if seg_shape[1] != target_len:\n",
    "    print(f\"{segment.instruments[0].name} has bad length {seg_shape} (wanted {target_len})\")"
   ]
  }
 ],
 "metadata": {
  "kernelspec": {
   "display_name": "env_ssmnet",
   "language": "python",
   "name": "python3"
  },
  "language_info": {
   "codemirror_mode": {
    "name": "ipython",
    "version": 3
   },
   "file_extension": ".py",
   "mimetype": "text/x-python",
   "name": "python",
   "nbconvert_exporter": "python",
   "pygments_lexer": "ipython3",
   "version": "3.11.5"
  }
 },
 "nbformat": 4,
 "nbformat_minor": 2
}
